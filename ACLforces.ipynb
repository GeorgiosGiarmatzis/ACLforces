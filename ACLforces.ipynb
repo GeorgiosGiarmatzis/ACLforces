{
 "cells": [
  {
   "cell_type": "markdown",
   "metadata": {},
   "source": [
    "# This script calculates ACL forces during a submaximal Hop Distance test performed by a healthy subject"
   ]
  },
  {
   "cell_type": "code",
   "execution_count": 33,
   "metadata": {},
   "outputs": [],
   "source": [
    "import os\n",
    "os.getcwd()\n",
    "from opensim_utils_g import perform_ik, perform_so, perform_jra, plot_sto\n",
    "import pandas as pd\n",
    "import ipywidgets\n",
    "import AssignPropertiesCustomLigament #custom function to assign the CustomLigament properties to the scaled model\n",
    "import perform_opensim_analyses_ACL"
   ]
  },
  {
   "cell_type": "code",
   "execution_count": 34,
   "metadata": {},
   "outputs": [],
   "source": [
    "cwd=os.getcwd()"
   ]
  },
  {
   "cell_type": "markdown",
   "metadata": {},
   "source": [
    "## This is the type of motion under investigation"
   ]
  },
  {
   "cell_type": "code",
   "execution_count": 35,
   "metadata": {},
   "outputs": [
    {
     "data": {
      "text/html": [
       "<video width=\"50%\" controls>                                                                \n",
       "    <source                                                                     \n",
       "        src=\"Data\\hopd.mp4\"\n",
       "        type=\"video/mp4\">                                                       \n",
       "</video>"
      ],
      "text/plain": [
       "<IPython.core.display.HTML object>"
      ]
     },
     "metadata": {},
     "output_type": "display_data"
    }
   ],
   "source": [
    "%%HTML\n",
    "<video width=\"50%\" controls>                                                                \n",
    "    <source                                                                     \n",
    "        src=\"Data\\hopd.mp4\"\n",
    "        type=\"video/mp4\">                                                       \n",
    "</video>"
   ]
  },
  {
   "cell_type": "code",
   "execution_count": 36,
   "metadata": {},
   "outputs": [
    {
     "name": "stdout",
     "output_type": "stream",
     "text": [
      "The autoreload extension is already loaded. To reload it, use:\n",
      "  %reload_ext autoreload\n"
     ]
    }
   ],
   "source": [
    "%load_ext autoreload"
   ]
  },
  {
   "cell_type": "code",
   "execution_count": 37,
   "metadata": {},
   "outputs": [],
   "source": [
    "%autoreload 1\n",
    "%aimport  AssignPropertiesCustomLigament"
   ]
  },
  {
   "cell_type": "code",
   "execution_count": 45,
   "metadata": {},
   "outputs": [],
   "source": [
    "\n",
    "model_app = AssignPropertiesCustomLigament.change_properies(cwd+'/Data/Ahelaos_Ligament.osim',\\\n",
    "                                                            cwd+'/Data/swing_model.osim')"
   ]
  },
  {
   "cell_type": "code",
   "execution_count": null,
   "metadata": {},
   "outputs": [],
   "source": []
  }
 ],
 "metadata": {
  "kernelspec": {
   "display_name": "Python 2",
   "language": "python",
   "name": "python2"
  },
  "language_info": {
   "codemirror_mode": {
    "name": "ipython",
    "version": 2
   },
   "file_extension": ".py",
   "mimetype": "text/x-python",
   "name": "python",
   "nbconvert_exporter": "python",
   "pygments_lexer": "ipython2",
   "version": "2.7.15+"
  }
 },
 "nbformat": 4,
 "nbformat_minor": 1
}
