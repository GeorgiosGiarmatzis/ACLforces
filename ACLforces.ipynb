{
 "cells": [
  {
   "cell_type": "markdown",
   "metadata": {},
   "source": [
    "# This script calculates ACL forces during a submaximal Hop Distance test performed by a healthy subject"
   ]
  },
  {
   "cell_type": "code",
   "execution_count": 3,
   "metadata": {
    "collapsed": false
   },
   "outputs": [],
   "source": [
    "import os\n",
    "os.getcwd()\n",
    "from opensim_utils_g import perform_ik, perform_so, perform_jra, plot_sto\n",
    "import pandas as pd\n",
    "import ipywidgets\n",
    "import AssignPropertiesCustomLigament #custom function to assign the CustomLigament properties to the scaled model\n",
    "import perform_opensim_analyses_ACL"
   ]
  },
  {
   "cell_type": "code",
   "execution_count": 4,
   "metadata": {
    "collapsed": false
   },
   "outputs": [],
   "source": [
    "cwd=os.getcwd()"
   ]
  },
  {
   "cell_type": "markdown",
   "metadata": {},
   "source": [
    "## This is the type of motion under investigation"
   ]
  },
  {
   "cell_type": "code",
   "execution_count": 5,
   "metadata": {
    "collapsed": false
   },
   "outputs": [
    {
     "data": {
      "text/html": [
       "<video width=\"50%\" controls>                                                                \n",
       "    <source                                                                     \n",
       "        src=\"Data\\hopd.mp4\"\n",
       "        type=\"video/mp4\">                                                       \n",
       "</video>"
      ],
      "text/plain": [
       "<IPython.core.display.HTML object>"
      ]
     },
     "metadata": {},
     "output_type": "display_data"
    }
   ],
   "source": [
    "%%HTML\n",
    "<video width=\"50%\" controls>                                                                \n",
    "    <source                                                                     \n",
    "        src=\"Data\\hopd.mp4\"\n",
    "        type=\"video/mp4\">                                                       \n",
    "</video>"
   ]
  },
  {
   "cell_type": "markdown",
   "metadata": {},
   "source": [
    "## The next function tweaks the osim file of the scaled model (scaled in Opensim GUI) by appending the CustomLigament properties of each ligament to the Ligament properties of the scaled model. This is done due to the inability of Opensim 3.3 to scale the CustomLigament resting_length and path. Later, the Ligament property is renamed to CustomLigament, thus the final osim model has scaled resting length and path AND the rest of the properties of the CustomLigament, to be used for further calculations\n"
   ]
  },
  {
   "cell_type": "code",
   "execution_count": 16,
   "metadata": {
    "collapsed": false
   },
   "outputs": [
    {
     "data": {
      "text/plain": [
       "'C:\\\\Users\\\\user\\\\Documents\\\\GitHub\\\\ACLforces\\\\Data\\\\Ahelaos_Ligament.osim'"
      ]
     },
     "execution_count": 16,
     "metadata": {},
     "output_type": "execute_result"
    }
   ],
   "source": [
    "name = cwd+'\\\\Data\\\\Ahelaos_Ligament.osim'\n",
    "name"
   ]
  },
  {
   "cell_type": "code",
   "execution_count": 27,
   "metadata": {
    "collapsed": false
   },
   "outputs": [
    {
     "name": "stdout",
     "output_type": "stream",
     "text": [
      "The autoreload extension is already loaded. To reload it, use:\n",
      "  %reload_ext autoreload\n"
     ]
    }
   ],
   "source": [
    "%load_ext autoreload\n",
    "%autoreload 1\n",
    "%aimport AssignPropertiesCustomLigament"
   ]
  },
  {
   "cell_type": "code",
   "execution_count": 32,
   "metadata": {
    "collapsed": false
   },
   "outputs": [],
   "source": [
    "model_app = AssignPropertiesCustomLigament.change_properies(cwd+'/Data/Ahelaos_Ligament.osim',\\\n",
    "                                                            cwd+'/Data/swing_model.osim')"
   ]
  },
  {
   "cell_type": "code",
   "execution_count": 43,
   "metadata": {
    "collapsed": false
   },
   "outputs": [
    {
     "data": {
      "text/plain": [
       "'C:\\\\Users\\\\user\\\\Documents\\\\GitHub\\\\ACLforces/Data/Ahelaos_CustomLigament.osim'"
      ]
     },
     "execution_count": 43,
     "metadata": {},
     "output_type": "execute_result"
    }
   ],
   "source": [
    "model_app"
   ]
  },
  {
   "cell_type": "markdown",
   "metadata": {},
   "source": [
    "### Now, the IK, ID, SO and JRA tools are performed in sequence "
   ]
  },
  {
   "cell_type": "markdown",
   "metadata": {},
   "source": [
    "The following code lets you tweak the previous model, based on the DOFs you want to lock"
   ]
  },
  {
   "cell_type": "code",
   "execution_count": 47,
   "metadata": {
    "collapsed": false
   },
   "outputs": [
    {
     "data": {
      "text/plain": [
       "'C:\\\\Users\\\\user\\\\Documents\\\\GitHub\\\\ACLforces/Data/Ahelaos_CustomLigament.osim'"
      ]
     },
     "execution_count": 47,
     "metadata": {},
     "output_type": "execute_result"
    }
   ],
   "source": [
    "import LockDOFs\n",
    "# inputs: model dir, coordinate, True (is locked) or False (is not locked)\n",
    "# outputs: new model dir - ml\n",
    "LockDOFs.lock(model_app,'knee_adduction_r',False)  \n",
    "LockDOFs.lock(model_app,'knee_rotation_r',True)\n",
    "LockDOFs.lock(model_app,'knee_anterior_posterior_r',True)\n",
    "LockDOFs.lock(model_app,'knee_inferior_superior_r',True)\n",
    "LockDOFs.lock(model_app,'knee_medial_lateral_r',True)"
   ]
  },
  {
   "cell_type": "code",
   "execution_count": 55,
   "metadata": {
    "collapsed": true
   },
   "outputs": [],
   "source": [
    "%autoreload 1\n",
    "%aimport perform_opensim_analyses_ACL"
   ]
  },
  {
   "cell_type": "code",
   "execution_count": 54,
   "metadata": {
    "collapsed": false
   },
   "outputs": [
    {
     "data": {
      "text/plain": [
       "0        Ahelaos\n",
       "1         Amanda\n",
       "2         Celine\n",
       "3     CharlotteH\n",
       "4     CharlotteV\n",
       "5         Esther\n",
       "6          Filip\n",
       "7      Franceska\n",
       "8          Guido\n",
       "9          Hanne\n",
       "10          Jago\n",
       "11        Jeroen\n",
       "12        Louise\n",
       "13       Maarten\n",
       "14          Nick\n",
       "15          Nils\n",
       "16           Sam\n",
       "17         Sarah\n",
       "18       Vendula\n",
       "19         Maria\n",
       "20        Yannis\n",
       "21        Stefan\n",
       "22        Steven\n",
       "Name: Names, dtype: object"
      ]
     },
     "execution_count": 54,
     "metadata": {},
     "output_type": "execute_result"
    }
   ],
   "source": [
    "perform_opensim_analyses_ACL.Opensim_Analysis(model_app)"
   ]
  },
  {
   "cell_type": "code",
   "execution_count": null,
   "metadata": {
    "collapsed": true
   },
   "outputs": [],
   "source": []
  }
 ],
 "metadata": {
  "kernelspec": {
   "display_name": "Python 2",
   "language": "python",
   "name": "python2"
  },
  "language_info": {
   "codemirror_mode": {
    "name": "ipython",
    "version": 2
   },
   "file_extension": ".py",
   "mimetype": "text/x-python",
   "name": "python",
   "nbconvert_exporter": "python",
   "pygments_lexer": "ipython2",
   "version": "2.7.10"
  }
 },
 "nbformat": 4,
 "nbformat_minor": 1
}
