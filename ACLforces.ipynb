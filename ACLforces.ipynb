{
 "cells": [
  {
   "cell_type": "markdown",
   "metadata": {},
   "source": [
    "# This script calculates ACL forces during a submaximal Hop Distance test performed by a healthy subject"
   ]
  },
  {
   "cell_type": "code",
   "execution_count": 12,
   "metadata": {
    "collapsed": false
   },
   "outputs": [],
   "source": [
    "import os\n",
    "os.getcwd()\n",
    "from opensim_utils_g import perform_ik, perform_so, perform_jra, plot_sto\n",
    "import pandas as pd\n",
    "import ipywidgets\n",
    "import AssignPropertiesCustomLigament #custom function to assign the CustomLigament properties to the scaled model\n",
    "import perform_opensim_analyses_ACL\n",
    "import strengthenModel"
   ]
  },
  {
   "cell_type": "code",
   "execution_count": 2,
   "metadata": {
    "collapsed": false
   },
   "outputs": [],
   "source": [
    "cwd=os.getcwd()"
   ]
  },
  {
   "cell_type": "code",
   "execution_count": 64,
   "metadata": {
    "collapsed": false
   },
   "outputs": [
    {
     "name": "stdout",
     "output_type": "stream",
     "text": [
      "The autoreload extension is already loaded. To reload it, use:\n",
      "  %reload_ext autoreload\n"
     ]
    }
   ],
   "source": [
    "%load_ext autoreload\n",
    "%autoreload 1\n",
    "%aimport AssignPropertiesCustomLigament\n",
    "%aimport strengthenModel\n",
    "%aimport opensim_utils_g"
   ]
  },
  {
   "cell_type": "markdown",
   "metadata": {},
   "source": [
    "## This is the type of motion under investigation"
   ]
  },
  {
   "cell_type": "code",
   "execution_count": 3,
   "metadata": {
    "collapsed": false
   },
   "outputs": [
    {
     "data": {
      "text/html": [
       "<video width=\"50%\" controls>                                                                \n",
       "    <source                                                                     \n",
       "        src=\"Data\\hopd.mp4\"\n",
       "        type=\"video/mp4\">                                                       \n",
       "</video>"
      ],
      "text/plain": [
       "<IPython.core.display.HTML object>"
      ]
     },
     "metadata": {},
     "output_type": "display_data"
    }
   ],
   "source": [
    "%%HTML\n",
    "<video width=\"50%\" controls>                                                                \n",
    "    <source                                                                     \n",
    "        src=\"Data\\hopd.mp4\"\n",
    "        type=\"video/mp4\">                                                       \n",
    "</video>"
   ]
  },
  {
   "cell_type": "markdown",
   "metadata": {},
   "source": [
    "## The next function tweaks the osim file of the scaled model (scaled in Opensim GUI) by appending the CustomLigament properties of each ligament to the Ligament properties of the scaled model. This is done due to the inability of Opensim 3.3 to scale the CustomLigament resting_length and path. Later, the Ligament property is renamed to CustomLigament, thus the final osim model has scaled resting length and path AND the rest of the properties of the CustomLigament, to be used for further calculations\n"
   ]
  },
  {
   "cell_type": "code",
   "execution_count": 118,
   "metadata": {
    "collapsed": true
   },
   "outputs": [],
   "source": [
    "subj = 'Filip'"
   ]
  },
  {
   "cell_type": "code",
   "execution_count": 119,
   "metadata": {
    "collapsed": false
   },
   "outputs": [
    {
     "data": {
      "text/plain": [
       "'C:\\\\Users\\\\user\\\\Documents\\\\GitHub\\\\ACLforces\\\\Data\\\\Filip\\\\Filip_Ligament.osim'"
      ]
     },
     "execution_count": 119,
     "metadata": {},
     "output_type": "execute_result"
    }
   ],
   "source": [
    "model_lig = cwd+'\\\\Data\\\\'+subj+'\\\\'+subj+'_Ligament.osim'\n",
    "model_lig"
   ]
  },
  {
   "cell_type": "code",
   "execution_count": 120,
   "metadata": {
    "collapsed": false
   },
   "outputs": [
    {
     "data": {
      "text/plain": [
       "'C:\\\\Users\\\\user\\\\Documents\\\\GitHub\\\\ACLforces\\\\Data\\\\Filip\\\\Filip_Ligament.osim'"
      ]
     },
     "execution_count": 120,
     "metadata": {},
     "output_type": "execute_result"
    }
   ],
   "source": [
    "import LockDOFs\n",
    "# inputs: model dir, coordinate, True (is locked) or False (is not locked) - locked and clamped\n",
    "# outputs: new model dir - ml\n",
    "LockDOFs.lock(model_lig,'knee_adduction_r',True,False)  \n",
    "LockDOFs.lock(model_lig,'knee_rotation_r',True,False)\n",
    "LockDOFs.lock(model_lig,'knee_angle_l',False,True) \n",
    "LockDOFs.lock(model_lig,'knee_adduction_l',True,False)  \n",
    "LockDOFs.lock(model_lig,'knee_rotation_l',True,False)\n",
    "LockDOFs.lock(model_lig,'knee_anterior_posterior_r',False,True)\n",
    "LockDOFs.lock(model_lig,'knee_inferior_superior_r',True,True)\n",
    "LockDOFs.lock(model_lig,'knee_medial_lateral_r',True,True)\n",
    "LockDOFs.lock(model_lig,'knee_anterior_posterior_l',True,True)\n",
    "LockDOFs.lock(model_lig,'knee_inferior_superior_l',True,True)\n",
    "LockDOFs.lock(model_lig,'knee_medial_lateral_l',True,True)"
   ]
  },
  {
   "cell_type": "code",
   "execution_count": 121,
   "metadata": {
    "collapsed": false
   },
   "outputs": [
    {
     "data": {
      "text/plain": [
       "'C:\\\\Users\\\\user\\\\Documents\\\\GitHub\\\\ACLforces\\\\Data\\\\Filip\\\\Filip_2.osim'"
      ]
     },
     "execution_count": 121,
     "metadata": {},
     "output_type": "execute_result"
    }
   ],
   "source": [
    "sf=2\n",
    "newName = strengthenModel.strengthen(model_lig,sf)\n",
    "newName"
   ]
  },
  {
   "cell_type": "code",
   "execution_count": 122,
   "metadata": {
    "collapsed": false
   },
   "outputs": [],
   "source": [
    "model_app = AssignPropertiesCustomLigament.change_properies(newName,\\\n",
    "                                                            cwd+'/Data/swing_model.osim')"
   ]
  },
  {
   "cell_type": "code",
   "execution_count": 123,
   "metadata": {
    "collapsed": false
   },
   "outputs": [
    {
     "data": {
      "text/plain": [
       "'C:\\\\Users\\\\user\\\\Documents\\\\GitHub\\\\ACLforces\\\\Data\\\\Filip\\\\Filip_2CL.osim'"
      ]
     },
     "execution_count": 123,
     "metadata": {},
     "output_type": "execute_result"
    }
   ],
   "source": [
    "model_app"
   ]
  },
  {
   "cell_type": "code",
   "execution_count": 124,
   "metadata": {
    "collapsed": false
   },
   "outputs": [
    {
     "name": "stdout",
     "output_type": "stream",
     "text": [
      "0\n"
     ]
    },
    {
     "ename": "OpenSimException",
     "evalue": "",
     "output_type": "error",
     "traceback": [
      "\u001b[1;31m---------------------------------------------------------------------------\u001b[0m",
      "\u001b[1;31mOpenSimException\u001b[0m                          Traceback (most recent call last)",
      "\u001b[1;32m<ipython-input-124-ca8f259e0b56>\u001b[0m in \u001b[0;36m<module>\u001b[1;34m()\u001b[0m\n\u001b[1;32m----> 1\u001b[1;33m \u001b[0mperform_opensim_analyses_ACL\u001b[0m\u001b[1;33m.\u001b[0m\u001b[0mOpensim_Analysis\u001b[0m\u001b[1;33m(\u001b[0m\u001b[0mmodel_app\u001b[0m\u001b[1;33m)\u001b[0m\u001b[1;33m\u001b[0m\u001b[0m\n\u001b[0m",
      "\u001b[1;32mperform_opensim_analyses_ACL.py\u001b[0m in \u001b[0;36mOpensim_Analysis\u001b[1;34m(model_file)\u001b[0m\n",
      "\u001b[1;32mopensim_utils_g.py\u001b[0m in \u001b[0;36mperform_id\u001b[1;34m(events_file, model_file, ik_file, grf_file, grf_xml_file, results_dir, opensimtools_dir, opensimplugin_dir, settings_dir)\u001b[0m\n",
      "\u001b[1;32mD:\\LocalDisk\\Programs\\WinPython-64bit-2.7.10.3\\python-2.7.10.amd64\\lib\\site-packages\\opensim-3.3-py2.7.egg\\opensim\\opensim.pyc\u001b[0m in \u001b[0;36mrun\u001b[1;34m(self)\u001b[0m\n\u001b[0;32m  93228\u001b[0m \u001b[1;33m\u001b[0m\u001b[0m\n\u001b[0;32m  93229\u001b[0m         \"\"\"\n\u001b[1;32m> 93230\u001b[1;33m         \u001b[1;32mreturn\u001b[0m \u001b[0m_opensim\u001b[0m\u001b[1;33m.\u001b[0m\u001b[0mInverseDynamicsTool_run\u001b[0m\u001b[1;33m(\u001b[0m\u001b[0mself\u001b[0m\u001b[1;33m)\u001b[0m\u001b[1;33m\u001b[0m\u001b[0m\n\u001b[0m\u001b[0;32m  93231\u001b[0m \u001b[1;33m\u001b[0m\u001b[0m\n\u001b[0;32m  93232\u001b[0m \u001b[0mInverseDynamicsTool_swigregister\u001b[0m \u001b[1;33m=\u001b[0m \u001b[0m_opensim\u001b[0m\u001b[1;33m.\u001b[0m\u001b[0mInverseDynamicsTool_swigregister\u001b[0m\u001b[1;33m\u001b[0m\u001b[0m\n",
      "\u001b[1;31mOpenSimException\u001b[0m: "
     ]
    }
   ],
   "source": [
    "perform_opensim_analyses_ACL.Opensim_Analysis(model_app)"
   ]
  },
  {
   "cell_type": "code",
   "execution_count": null,
   "metadata": {
    "collapsed": true
   },
   "outputs": [],
   "source": []
  }
 ],
 "metadata": {
  "kernelspec": {
   "display_name": "Python 2",
   "language": "python",
   "name": "python2"
  },
  "language_info": {
   "codemirror_mode": {
    "name": "ipython",
    "version": 2
   },
   "file_extension": ".py",
   "mimetype": "text/x-python",
   "name": "python",
   "nbconvert_exporter": "python",
   "pygments_lexer": "ipython2",
   "version": "2.7.10"
  }
 },
 "nbformat": 4,
 "nbformat_minor": 1
}
